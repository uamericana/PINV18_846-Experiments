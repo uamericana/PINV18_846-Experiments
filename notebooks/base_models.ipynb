{
 "cells": [
  {
   "cell_type": "markdown",
   "metadata": {
    "collapsed": true,
    "pycharm": {
     "name": "#%% md\n"
    }
   },
   "source": [
    "## Imports"
   ]
  },
  {
   "cell_type": "code",
   "source": [
    "from lib import model, data, determ\n",
    "from lib.datasets.retinopathyv2a import RetinopathyV2a\n",
    "from lib.experiment import DataParams, dataset_defaults, execute_experiment\n",
    "from sklearn.model_selection import ParameterGrid"
   ],
   "metadata": {
    "collapsed": false,
    "pycharm": {
     "name": "#%%\n"
    }
   },
   "execution_count": 16,
   "outputs": []
  },
  {
   "cell_type": "markdown",
   "source": [
    "## Defaults"
   ],
   "metadata": {
    "collapsed": false,
    "pycharm": {
     "name": "#%% md\n"
    }
   }
  },
  {
   "cell_type": "code",
   "source": [
    "SPLITS_NAMES = [\"Train\", \"Validation\", \"Test\"]\n",
    "PROJECT_ROOT = \"../\"\n",
    "\n",
    "determ.set_global_determinism(42)"
   ],
   "metadata": {
    "collapsed": false,
    "pycharm": {
     "name": "#%%\n"
    }
   },
   "execution_count": 4,
   "outputs": []
  },
  {
   "cell_type": "code",
   "execution_count": 13,
   "outputs": [],
   "source": [
    "data_grid = {\n",
    "    'splits': [[0.65, 0.25, 0.15], [0.7, 0.2, 0.1]],\n",
    "    'image_size': [160]\n",
    "}\n",
    "\n",
    "dataset_grid = [\n",
    "    {'dataset': [RetinopathyV2a],\n",
    "     'mapping': [RetinopathyV2a.mapping.c2, RetinopathyV2a.mapping.c2],\n",
    "     **data_grid\n",
    "     },\n",
    "]\n",
    "\n",
    "data_params_grid = ParameterGrid(dataset_grid)"
   ],
   "metadata": {
    "collapsed": false,
    "pycharm": {
     "name": "#%%\n"
    }
   }
  },
  {
   "cell_type": "code",
   "execution_count": 15,
   "outputs": [
    {
     "ename": "AttributeError",
     "evalue": "'dict' object has no attribute 'value'",
     "output_type": "error",
     "traceback": [
      "\u001B[1;31m---------------------------------------------------------------------------\u001B[0m",
      "\u001B[1;31mAttributeError\u001B[0m                            Traceback (most recent call last)",
      "\u001B[1;32m<ipython-input-15-8e4290e24aeb>\u001B[0m in \u001B[0;36m<module>\u001B[1;34m\u001B[0m\n\u001B[0;32m      4\u001B[0m         \u001B[0msplits\u001B[0m\u001B[1;33m=\u001B[0m\u001B[0mdp_combination\u001B[0m\u001B[1;33m[\u001B[0m\u001B[1;34m'splits'\u001B[0m\u001B[1;33m]\u001B[0m\u001B[1;33m,\u001B[0m\u001B[1;33m\u001B[0m\u001B[1;33m\u001B[0m\u001B[0m\n\u001B[0;32m      5\u001B[0m         \u001B[0mimage_size\u001B[0m\u001B[1;33m=\u001B[0m\u001B[0mdp_combination\u001B[0m\u001B[1;33m[\u001B[0m\u001B[1;34m'image_size'\u001B[0m\u001B[1;33m]\u001B[0m\u001B[1;33m,\u001B[0m\u001B[1;33m\u001B[0m\u001B[1;33m\u001B[0m\u001B[0m\n\u001B[1;32m----> 6\u001B[1;33m         \u001B[0mremap\u001B[0m\u001B[1;33m=\u001B[0m\u001B[0mdp_combination\u001B[0m\u001B[1;33m[\u001B[0m\u001B[1;34m'mapping'\u001B[0m\u001B[1;33m]\u001B[0m\u001B[1;33m.\u001B[0m\u001B[0mvalue\u001B[0m\u001B[1;33m\u001B[0m\u001B[1;33m\u001B[0m\u001B[0m\n\u001B[0m\u001B[0;32m      7\u001B[0m     )\n\u001B[0;32m      8\u001B[0m \u001B[1;33m\u001B[0m\u001B[0m\n",
      "\u001B[1;31mAttributeError\u001B[0m: 'dict' object has no attribute 'value'"
     ]
    }
   ],
   "source": [
    "for dp_combination in data_params_grid:\n",
    "    data_params = DataParams(\n",
    "        dataset=dp_combination['dataset'],\n",
    "        splits=dp_combination['splits'],\n",
    "        image_size=dp_combination['image_size'],\n",
    "        remap=dp_combination['mapping'].value\n",
    "    )\n",
    "\n",
    "    print(data_params)"
   ],
   "metadata": {
    "collapsed": false,
    "pycharm": {
     "name": "#%%\n"
    }
   }
  },
  {
   "cell_type": "code",
   "execution_count": null,
   "outputs": [],
   "source": [],
   "metadata": {
    "collapsed": false,
    "pycharm": {
     "name": "#%%\n"
    }
   }
  }
 ],
 "metadata": {
  "kernelspec": {
   "display_name": "Python 3",
   "language": "python",
   "name": "python3"
  },
  "language_info": {
   "codemirror_mode": {
    "name": "ipython",
    "version": 2
   },
   "file_extension": ".py",
   "mimetype": "text/x-python",
   "name": "python",
   "nbconvert_exporter": "python",
   "pygments_lexer": "ipython2",
   "version": "2.7.6"
  }
 },
 "nbformat": 4,
 "nbformat_minor": 0
}